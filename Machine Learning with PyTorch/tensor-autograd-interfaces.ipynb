{
 "cells": [
  {
   "cell_type": "code",
   "execution_count": 1,
   "metadata": {},
   "outputs": [
    {
     "name": "stdout",
     "output_type": "stream",
     "text": [
      "Random 2-D tensor\n",
      "tensor([[-0.2878,  1.2184,  1.5993],\n",
      "        [-0.2567,  0.2560, -0.8569],\n",
      "        [-1.4788,  1.0990, -0.7223]], requires_grad=True)\n",
      "\n",
      "Random 2-D shifted by 7, multiplied by 5\n",
      "tensor([[33.5611, 41.0922, 42.9966],\n",
      "        [33.7165, 36.2799, 30.7157],\n",
      "        [27.6059, 40.4950, 31.3885]], grad_fn=<MulBackward0>)\n"
     ]
    }
   ],
   "source": [
    "'''\n",
    "This notebook explores pytorch tensors, the autograd function, and NumPy interfaces0\n",
    "from their instantiation to their properties.\n",
    "'''\n",
    "import torch\n",
    "from torch.autograd import Variable\n",
    "import numpy as np\n",
    "\n",
    "# Create a tensor\n",
    "x = torch.randn(3, 3, requires_grad = True) # Generate a random 3 x 3 tensor\n",
    "print(\"Random 2-D tensor\")\n",
    "print(x)\n",
    "\n",
    "y = (x + 7) * 5 # Add 7 to each value and multiply that total by 5\n",
    "print(\"\\nRandom 2-D shifted by 7, multiplied by 5\")\n",
    "print(y)"
   ]
  },
  {
   "cell_type": "code",
   "execution_count": 2,
   "metadata": {},
   "outputs": [
    {
     "data": {
      "text/plain": [
       "(tensor([[ 5., 10., 15.],\n",
       "         [20., 25., 30.],\n",
       "         [35., 40., 45.]]), None)"
      ]
     },
     "execution_count": 2,
     "metadata": {},
     "output_type": "execute_result"
    }
   ],
   "source": [
    "'''\n",
    "How to get the gradient function:\n",
    "y = (x + 7) * 5 <-- Original Function\n",
    "y = 5x + 35\n",
    "dy/dx = 5       <-- Gradient Function\n",
    "'''\n",
    "# Create a new 3 x 3 tensor with specified data type as float with values 0-9\n",
    "v = torch.tensor([[1, 2, 3],\n",
    "                  [4, 5, 6],\n",
    "                  [7, 8, 9]], dtype = torch.float)\n",
    "\n",
    "y.grad_fn(v) # Call the gradient function (grad_fn) attatched to the y tensor on the data of v"
   ]
  },
  {
   "cell_type": "code",
   "execution_count": 3,
   "metadata": {},
   "outputs": [
    {
     "name": "stdout",
     "output_type": "stream",
     "text": [
      "Multiplied by 3\n",
      "tensor([[100.6832, 123.2766, 128.9898],\n",
      "        [101.1495, 108.8398,  92.1470],\n",
      "        [ 82.8177, 121.4851,  94.1654]], grad_fn=<MulBackward0>)\n",
      "\n",
      "Mean of values\n",
      "tensor(105.9505, grad_fn=<MeanBackward0>)\n"
     ]
    }
   ],
   "source": [
    "z = y * 3\n",
    "out = z.mean() # Single reduction of all the z data (mean avg.)\n",
    "\n",
    "print(\"Multiplied by 3\")\n",
    "print(z)\n",
    "print(\"\\nMean of values\")\n",
    "print(out)"
   ]
  },
  {
   "cell_type": "code",
   "execution_count": 6,
   "metadata": {},
   "outputs": [
    {
     "name": "stdout",
     "output_type": "stream",
     "text": [
      "  --> <MeanBackward0 object at 0x00000197601AAEC8>\n",
      "   --> <MulBackward0 object at 0x00000197601AAFC8>\n",
      "    --> <MulBackward0 object at 0x0000019760163748>\n",
      "     --> <AddBackward0 object at 0x0000019760163388>\n",
      "      --> <AccumulateGrad object at 0x0000019760163748>\n"
     ]
    }
   ],
   "source": [
    "# You can recursively trace through the previously used gradient functions\n",
    "grad = out.grad_fn\n",
    "indent = 1\n",
    "while True:\n",
    "    print(\" \" * indent, \"-->\", grad)\n",
    "    if not grad.next_functions:\n",
    "        break\n",
    "    grad = grad.next_functions[0][0]\n",
    "    indent += 1"
   ]
  },
  {
   "cell_type": "code",
   "execution_count": 7,
   "metadata": {},
   "outputs": [
    {
     "name": "stdout",
     "output_type": "stream",
     "text": [
      "<MeanBackward0 object at 0x000001976014AD08>\n"
     ]
    },
    {
     "data": {
      "text/plain": [
       "tensor([[1.1111, 1.1111, 1.1111],\n",
       "        [1.1111, 1.1111, 1.1111],\n",
       "        [1.1111, 1.1111, 1.1111]])"
      ]
     },
     "execution_count": 7,
     "metadata": {},
     "output_type": "execute_result"
    }
   ],
   "source": [
    "print(out.grad_fn) # Divide by 9\n",
    "\n",
    "val1 = Variable(torch.tensor([10.])) # Create a zero dimensional tensor with only the value 10.\n",
    "out.grad_fn(val1) # Broadcasting: val1 is scaled to a 3x3 array"
   ]
  },
  {
   "cell_type": "code",
   "execution_count": 8,
   "metadata": {},
   "outputs": [
    {
     "data": {
      "text/plain": [
       "tensor([[0.3333, 0.6667, 1.0000],\n",
       "        [0.1111, 0.2222, 0.3333],\n",
       "        [0.2222, 0.4444, 0.8889]])"
      ]
     },
     "execution_count": 8,
     "metadata": {},
     "output_type": "execute_result"
    }
   ],
   "source": [
    "val2 = torch.tensor([[3, 6, 9],\n",
    "                     [1, 2, 3],\n",
    "                     [2, 4, 8]], dtype = torch.float)\n",
    "\n",
    "out.grad_fn(val2)"
   ]
  },
  {
   "cell_type": "code",
   "execution_count": 9,
   "metadata": {},
   "outputs": [
    {
     "data": {
      "text/plain": [
       "tensor([[0.1667, 0.3700, 1.0111],\n",
       "        [0.1667, 0.3700, 1.0111],\n",
       "        [0.1667, 0.3700, 1.0111]])"
      ]
     },
     "execution_count": 9,
     "metadata": {},
     "output_type": "execute_result"
    }
   ],
   "source": [
    "val3 = torch.tensor([1.5, 3.33, 9.1]) # 3x1 is broadcasted\n",
    "out.grad_fn(val3)"
   ]
  },
  {
   "cell_type": "code",
   "execution_count": 10,
   "metadata": {},
   "outputs": [
    {
     "name": "stdout",
     "output_type": "stream",
     "text": [
      "The expanded size of the tensor (3) must match the existing size (2) at non-singleton dimension 1.  Target sizes: [3, 3].  Tensor sizes: [2, 2]\n"
     ]
    }
   ],
   "source": [
    "# Broadcasting will not work with this since pytorch doesn't know how to scale a 2x2 into a 3x3\n",
    "try:\n",
    "    val4 = torch.tensor([[1., 2.],\n",
    "                         [3., 4.]])\n",
    "    out.grad_fn(val4)\n",
    "except Exception as err:\n",
    "    print(err)"
   ]
  },
  {
   "cell_type": "code",
   "execution_count": 11,
   "metadata": {},
   "outputs": [
    {
     "name": "stdout",
     "output_type": "stream",
     "text": [
      "Original tensor\n",
      " tensor([[3., 6., 9.],\n",
      "        [1., 2., 3.],\n",
      "        [2., 4., 8.]]) \n",
      "\n",
      "MeanBackward then rescaled manually\n",
      " tensor([[3., 6., 9.],\n",
      "        [1., 2., 3.],\n",
      "        [2., 4., 8.]])\n"
     ]
    }
   ],
   "source": [
    "print(\"Original tensor\\n\", val2, '\\n')\n",
    "\n",
    "# Apply out's gradient function then remultiply by the number of elements\n",
    "size = np.prod(val2.shape)\n",
    "print(\"MeanBackward then rescaled manually\\n\", out.grad_fn(val2) * size)"
   ]
  }
 ],
 "metadata": {
  "kernelspec": {
   "display_name": "Python 3",
   "language": "python",
   "name": "python3"
  },
  "language_info": {
   "codemirror_mode": {
    "name": "ipython",
    "version": 3
   },
   "file_extension": ".py",
   "mimetype": "text/x-python",
   "name": "python",
   "nbconvert_exporter": "python",
   "pygments_lexer": "ipython3",
   "version": "3.7.4"
  }
 },
 "nbformat": 4,
 "nbformat_minor": 2
}
