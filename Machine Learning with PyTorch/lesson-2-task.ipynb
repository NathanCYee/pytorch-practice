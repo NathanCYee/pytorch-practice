{
 "cells": [
  {
   "cell_type": "code",
   "execution_count": 1,
   "metadata": {},
   "outputs": [],
   "source": [
    "from sklearn.datasets import load_breast_cancer # The data set used\n",
    "from sklearn.preprocessing import StandardScaler # Normalizes inputs\n",
    "from sklearn.preprocessing import PolynomialFeatures # Combine features of observable domain and construct new domain\n",
    "from sklearn.ensemble import RandomForestClassifier # Creates an aggregation of decision trees\n",
    "from sklearn.feature_selection import RFECV # Recursive Feature Elimination with Cross Validation (eliminate feature noise)\n",
    "from sklearn.model_selection import train_test_split # Splits test data and training data to avoid overfitting"
   ]
  },
  {
   "cell_type": "code",
   "execution_count": 2,
   "metadata": {},
   "outputs": [
    {
     "name": "stdout",
     "output_type": "stream",
     "text": [
      "Original data (rows, features): (569, 30)\n"
     ]
    }
   ],
   "source": [
    "cancer = load_breast_cancer() # Load the data set\n",
    "x_scaled = StandardScaler().fit_transform(cancer.data) # Re-centers and re-scales values\n",
    "\n",
    "print(\"Original data (rows, features):\", x_scaled.shape)"
   ]
  },
  {
   "cell_type": "code",
   "execution_count": 3,
   "metadata": {},
   "outputs": [
    {
     "name": "stdout",
     "output_type": "stream",
     "text": [
      "All polynomial featues (order 2): (569, 496)\n",
      "Wall time: 6.98 ms\n"
     ]
    }
   ],
   "source": [
    "%%time\n",
    "poly = PolynomialFeatures(2) # Take 30 original features and create synthetic features\n",
    "x_poly = poly.fit_transform(x_scaled)\n",
    "\n",
    "print(\"All polynomial featues (order 2):\", x_poly.shape)"
   ]
  },
  {
   "cell_type": "code",
   "execution_count": 4,
   "metadata": {},
   "outputs": [
    {
     "name": "stdout",
     "output_type": "stream",
     "text": [
      "Best polynomial features:  (569, 278)\n",
      "Wall time: 36 s\n"
     ]
    }
   ],
   "source": [
    "%%time\n",
    "# Create a Random Forest with a maximum depth of 7, 10 trees, 1 random state for replication\n",
    "rfc = RandomForestClassifier(max_depth = 7, n_estimators = 10, random_state = 1) \n",
    "\n",
    "# Create a random forest classifier using the rfc constructed earlier, split into 5 pieces to compare\n",
    "rfecv = RFECV(estimator = rfc, cv = 5, n_jobs = -1) \n",
    "x_poly_top = rfecv.fit_transform(x_poly, cancer.target) # get top features\n",
    "\n",
    "print(\"Best polynomial features: \", x_poly_top.shape)"
   ]
  },
  {
   "cell_type": "code",
   "execution_count": 5,
   "metadata": {},
   "outputs": [
    {
     "name": "stdout",
     "output_type": "stream",
     "text": [
      "Test accuracy: 94%\n",
      "Wall time: 42.9 ms\n"
     ]
    }
   ],
   "source": [
    "%%time\n",
    "# Split training and testing data from the trimmed dataset with a random_state of 42 for reproducibility\n",
    "x_train, x_test, y_train, y_test = train_test_split(x_poly_top, cancer.target, random_state = 42)\n",
    "\n",
    "# Create a Random Forest with a maximum depth of 7, 10 trees, 1 random state for replication\n",
    "rfc = RandomForestClassifier(max_depth = 7, n_estimators = 10, random_state = 1)\n",
    "\n",
    "# Train the model using training data and score it's accuracy using the test data\n",
    "acc = rfc.fit(x_train, y_train).score(x_test, y_test)\n",
    "\n",
    "print(\"Test accuracy: {:.0f}%\".format(100. * acc))"
   ]
  },
  {
   "cell_type": "code",
   "execution_count": 6,
   "metadata": {},
   "outputs": [
    {
     "data": {
      "text/plain": [
       "(569, 30)"
      ]
     },
     "execution_count": 6,
     "metadata": {},
     "output_type": "execute_result"
    }
   ],
   "source": [
    "batch_size = 32 # How many observations at a time for the neural network\n",
    "in_dim = cancer.data.shape[1] # Size of the input layer (shape of the data 30 features)\n",
    "hidden1 = x_poly_top.shape[1] # Use polynomial features as neuron amount\n",
    "hidden2 = 20 # Inference layer\n",
    "out_dim = 1 # One binary output\n",
    "\n",
    "batches_in_data = x_train.shape[0] / batch_size\n",
    "epochs = int(5000 / batches_in_data) # Number of repetitions to train data\n",
    "learning_rate = 1e-4 # Penalty to adjustment (reduce change compared to found data)\n",
    "\n",
    "# Split training and testing data from the trimmed dataset with a random_state of 42 for reproducibility\n",
    "x_train, x_test, y_train, y_test = train_test_split(cancer.data, cancer.target, random_state = 42)\n",
    "\n",
    "cancer.data.shape"
   ]
  },
  {
   "cell_type": "code",
   "execution_count": 7,
   "metadata": {},
   "outputs": [],
   "source": [
    "import numpy as np\n",
    "import torch\n",
    "from torch.autograd import Variable"
   ]
  },
  {
   "cell_type": "code",
   "execution_count": 8,
   "metadata": {},
   "outputs": [],
   "source": [
    "# Create a sequential model (do a sequence of layers)\n",
    "model_t = torch.nn.Sequential(\n",
    "    # Linear model (dense layer to simulate polynomial feature generation)\n",
    "    torch.nn.Linear(in_dim, hidden1),\n",
    "    # Activation function\n",
    "    torch.nn.ReLU(),\n",
    "    # Linear model for inference\n",
    "    torch.nn.Linear(hidden1, hidden2),\n",
    "    # Leaky RELU activation function\n",
    "    torch.nn.LeakyReLU(),\n",
    "    # Dropout layer to prevent over fitting (randomly make neurons ineffective to prevent co-adaptation by preventing too much weight being put on a neuron)\n",
    "    torch.nn.Dropout(p = 0.25),\n",
    "    # Sigmoid activation function\n",
    "    torch.nn.Linear(hidden2, out_dim),\n",
    "    # Sigmoid function is a sloped function to get close to 1 or 0 (binary decision)\n",
    "    torch.nn.Sigmoid()\n",
    ")\n",
    "# Loss function: how do you compute how much error that you did in the previous pass\n",
    "# Optimizers: how you do the back propogation"
   ]
  },
  {
   "cell_type": "code",
   "execution_count": 9,
   "metadata": {},
   "outputs": [
    {
     "data": {
      "text/plain": [
       "Sequential(\n",
       "  (0): Linear(in_features=30, out_features=278, bias=True)\n",
       "  (1): ReLU()\n",
       "  (2): Linear(in_features=278, out_features=20, bias=True)\n",
       "  (3): LeakyReLU(negative_slope=0.01)\n",
       "  (4): Dropout(p=0.25, inplace=False)\n",
       "  (5): Linear(in_features=20, out_features=1, bias=True)\n",
       "  (6): Sigmoid()\n",
       ")"
      ]
     },
     "execution_count": 9,
     "metadata": {},
     "output_type": "execute_result"
    }
   ],
   "source": [
    "model_t"
   ]
  },
  {
   "cell_type": "code",
   "execution_count": 10,
   "metadata": {},
   "outputs": [
    {
     "name": "stdout",
     "output_type": "stream",
     "text": [
      "----------------------------------------------------------------\n",
      "        Layer (type)               Output Shape         Param #\n",
      "================================================================\n",
      "            Linear-1               [-1, 1, 278]           8,618\n",
      "              ReLU-2               [-1, 1, 278]               0\n",
      "            Linear-3                [-1, 1, 20]           5,580\n",
      "         LeakyReLU-4                [-1, 1, 20]               0\n",
      "           Dropout-5                [-1, 1, 20]               0\n",
      "            Linear-6                 [-1, 1, 1]              21\n",
      "           Sigmoid-7                 [-1, 1, 1]               0\n",
      "================================================================\n",
      "Total params: 14,219\n",
      "Trainable params: 14,219\n",
      "Non-trainable params: 0\n",
      "----------------------------------------------------------------\n",
      "Input size (MB): 0.00\n",
      "Forward/backward pass size (MB): 0.00\n",
      "Params size (MB): 0.05\n",
      "Estimated Total Size (MB): 0.06\n",
      "----------------------------------------------------------------\n"
     ]
    }
   ],
   "source": [
    "from torch import device, cuda\n",
    "from torchsummary import summary\n",
    "\n",
    "# Check to see if the python is compiled for CUDA or CPU compute\n",
    "if cuda.is_available():\n",
    "    model_t = model_t.to(device('cuda'))\n",
    "\n",
    "# Print a summary of the model\n",
    "summary(model_t, input_size = (1, in_dim))"
   ]
  },
  {
   "cell_type": "code",
   "execution_count": 27,
   "metadata": {},
   "outputs": [],
   "source": [
    "show_every = 250 # How often is information displayed\n",
    "\n",
    "def train():\n",
    "    for epoch in range(5000):\n",
    "        # Get inital predictions\n",
    "        y_pred = model_t(x_train_torch)\n",
    "        loss = loss_fn(y_pred, y_train_torch) # Calculate loss between predictions and actual\n",
    "        \n",
    "        if not epoch % show_every: # for every 250 epochs, run a comparison between test data and trained data\n",
    "            y_test_pred = model_t(Variable(x_test_torch))\n",
    "            prediction = [int(val > 0.5) for val in y_test_pred.cpu().data.numpy()] # Generated a casted binary array from the predictions\n",
    "            test_accuracy = (prediction == y_test).sum() / len(y_test) # Sum together the number of correct predictions and see how many worked out of all the test data\n",
    "            train_pred = [int(val > 0.5) for val in y_pred.cpu().data.numpy()] # Generated a casted binary array from the predictions\n",
    "            train_accuracy = (train_pred == y_train).sum() / len(y_train) # Sum together the number of correct predictions and see how many worked out of all the train data\n",
    "            print(\"Batch: %04d | Training Loss: %6.2f | Train Accuracy: %.4f | Test Accuracy: %.4f\"%(epoch, loss.item(), train_accuracy, test_accuracy)) # Print out results\n",
    "        \n",
    "        # Remove previous pass differences\n",
    "        optimizer.zero_grad()\n",
    "        \n",
    "        # Backward pass\n",
    "        loss.backward()\n",
    "        \n",
    "        # Update weights\n",
    "        optimizer.step()"
   ]
  },
  {
   "cell_type": "code",
   "execution_count": 30,
   "metadata": {},
   "outputs": [
    {
     "name": "stdout",
     "output_type": "stream",
     "text": [
      "Batch: 0000 | Training Loss:   3.27 | Train Accuracy: 0.9906 | Test Accuracy: 0.9510\n",
      "Batch: 0250 | Training Loss:   2.88 | Train Accuracy: 0.9953 | Test Accuracy: 0.9441\n",
      "Batch: 0500 | Training Loss:   2.82 | Train Accuracy: 0.9953 | Test Accuracy: 0.9441\n",
      "Batch: 0750 | Training Loss:   2.87 | Train Accuracy: 0.9930 | Test Accuracy: 0.9510\n",
      "Batch: 1000 | Training Loss:   2.15 | Train Accuracy: 0.9977 | Test Accuracy: 0.9301\n",
      "Batch: 1250 | Training Loss:   2.09 | Train Accuracy: 0.9953 | Test Accuracy: 0.9371\n",
      "Batch: 1500 | Training Loss:   1.94 | Train Accuracy: 0.9977 | Test Accuracy: 0.9301\n",
      "Batch: 1750 | Training Loss:   2.04 | Train Accuracy: 0.9977 | Test Accuracy: 0.9441\n",
      "Batch: 2000 | Training Loss:   1.90 | Train Accuracy: 0.9953 | Test Accuracy: 0.9510\n",
      "Batch: 2250 | Training Loss:   2.19 | Train Accuracy: 0.9953 | Test Accuracy: 0.9650\n",
      "Batch: 2500 | Training Loss:   2.04 | Train Accuracy: 0.9977 | Test Accuracy: 0.9371\n",
      "Batch: 2750 | Training Loss:   1.70 | Train Accuracy: 0.9953 | Test Accuracy: 0.9301\n",
      "Batch: 3000 | Training Loss:   1.30 | Train Accuracy: 0.9977 | Test Accuracy: 0.9441\n",
      "Batch: 3250 | Training Loss:   2.63 | Train Accuracy: 0.9930 | Test Accuracy: 0.9510\n",
      "Batch: 3500 | Training Loss:   1.89 | Train Accuracy: 0.9953 | Test Accuracy: 0.9441\n",
      "Batch: 3750 | Training Loss:   1.82 | Train Accuracy: 0.9953 | Test Accuracy: 0.9371\n",
      "Batch: 4000 | Training Loss:   2.46 | Train Accuracy: 0.9953 | Test Accuracy: 0.9580\n",
      "Batch: 4250 | Training Loss:   1.28 | Train Accuracy: 0.9977 | Test Accuracy: 0.9371\n",
      "Batch: 4500 | Training Loss:   1.93 | Train Accuracy: 0.9953 | Test Accuracy: 0.9510\n",
      "Batch: 4750 | Training Loss:   2.00 | Train Accuracy: 0.9930 | Test Accuracy: 0.9441\n",
      "Wall time: 25.7 s\n"
     ]
    }
   ],
   "source": [
    "%%time\n",
    "\n",
    "# Bring over data from numpy\n",
    "x_train_torch = torch.from_numpy(x_train).float()\n",
    "y_train_torch = torch.from_numpy(y_train[:, np.newaxis]).float()\n",
    "x_test_torch = torch.from_numpy(x_test).float()\n",
    "y_test_torch = torch.from_numpy(y_test[:, np.newaxis]).float()\n",
    "\n",
    "# Check to see if the python is compiled for CUDA and if so convert models to be compatible\n",
    "if cuda.is_available():\n",
    "    x_train_torch = x_train_torch.to(device('cuda'))\n",
    "    y_train_torch = y_train_torch.to(device('cuda'))\n",
    "    x_test_torch = x_test_torch.to(device('cuda'))\n",
    "    y_test_torch = y_test_torch.to(device('cuda'))\n",
    "    \n",
    "loss_fn = torch.nn.MSELoss(reduction = 'sum') # define your loss function\n",
    "optimizer = torch.optim.Adam(model_t.parameters(), lr = learning_rate) # define your optimizer\n",
    "train() # run the training"
   ]
  }
 ],
 "metadata": {
  "kernelspec": {
   "display_name": "Python 3",
   "language": "python",
   "name": "python3"
  },
  "language_info": {
   "codemirror_mode": {
    "name": "ipython",
    "version": 3
   },
   "file_extension": ".py",
   "mimetype": "text/x-python",
   "name": "python",
   "nbconvert_exporter": "python",
   "pygments_lexer": "ipython3",
   "version": "3.7.4"
  }
 },
 "nbformat": 4,
 "nbformat_minor": 2
}
