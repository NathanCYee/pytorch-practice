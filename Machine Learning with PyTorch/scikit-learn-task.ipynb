{
 "cells": [
  {
   "cell_type": "code",
   "execution_count": 1,
   "metadata": {},
   "outputs": [],
   "source": [
    "from sklearn.datasets import load_breast_cancer # The data set used\n",
    "from sklearn.preprocessing import StandardScaler # Normalizes inputs\n",
    "from sklearn.preprocessing import PolynomialFeatures # Combine features of observable domain and construct new domain\n",
    "from sklearn.ensemble import RandomForestClassifier # Creates an aggregation of decision trees\n",
    "from sklearn.feature_selection import RFECV # Recursive Feature Elimination with Cross Validation (eliminate feature noise)\n",
    "from sklearn.model_selection import train_test_split # Splits test data and training data to avoid overfitting"
   ]
  },
  {
   "cell_type": "code",
   "execution_count": 2,
   "metadata": {},
   "outputs": [
    {
     "name": "stdout",
     "output_type": "stream",
     "text": [
      "Original data (rows, features): (569, 30)\n"
     ]
    }
   ],
   "source": [
    "cancer = load_breast_cancer() # Load the data set\n",
    "x_scaled = StandardScaler().fit_transform(cancer.data) # Re-centers and re-scales values\n",
    "\n",
    "print(\"Original data (rows, features):\", x_scaled.shape)"
   ]
  },
  {
   "cell_type": "code",
   "execution_count": 3,
   "metadata": {},
   "outputs": [
    {
     "name": "stdout",
     "output_type": "stream",
     "text": [
      "All polynomial featues (order 2): (569, 496)\n",
      "Wall time: 6.95 ms\n"
     ]
    }
   ],
   "source": [
    "%%time\n",
    "poly = PolynomialFeatures(2) # Take 30 original features and create synthetic features\n",
    "x_poly = poly.fit_transform(x_scaled)\n",
    "\n",
    "print(\"All polynomial featues (order 2):\", x_poly.shape)"
   ]
  },
  {
   "cell_type": "code",
   "execution_count": 4,
   "metadata": {},
   "outputs": [
    {
     "name": "stdout",
     "output_type": "stream",
     "text": [
      "Best polynomial features:  (569, 278)\n",
      "Wall time: 34.8 s\n"
     ]
    }
   ],
   "source": [
    "%%time\n",
    "# Create a Random Forest with a maximum depth of 7, 10 trees, 1 random state for replication\n",
    "rfc = RandomForestClassifier(max_depth = 7, n_estimators = 10, random_state = 1) \n",
    "\n",
    "# Create a random forest classifier using the rfc constructed earlier, split into 5 pieces to compare\n",
    "rfecv = RFECV(estimator = rfc, cv = 5, n_jobs = -1) \n",
    "x_poly_top = rfecv.fit_transform(x_poly, cancer.target) # get top features\n",
    "\n",
    "print(\"Best polynomial features: \", x_poly_top.shape)"
   ]
  },
  {
   "cell_type": "code",
   "execution_count": 5,
   "metadata": {},
   "outputs": [
    {
     "name": "stdout",
     "output_type": "stream",
     "text": [
      "Test accuracy: 94%\n",
      "Wall time: 29.9 ms\n"
     ]
    }
   ],
   "source": [
    "%%time\n",
    "# Split training and testing data from the trimmed dataset with a random_state of 42 for reproducibility\n",
    "x_train, x_test, y_train, y_test = train_test_split(x_poly_top, cancer.target, random_state = 42)\n",
    "\n",
    "# Create a Random Forest with a maximum depth of 7, 10 trees, 1 random state for replication\n",
    "rfc = RandomForestClassifier(max_depth = 7, n_estimators = 10, random_state = 1)\n",
    "\n",
    "# Train the model using training data and score it's accuracy using the test data\n",
    "acc = rfc.fit(x_train, y_train).score(x_test, y_test)\n",
    "\n",
    "print(\"Test accuracy: {:.0f}%\".format(100. * acc))"
   ]
  }
 ],
 "metadata": {
  "kernelspec": {
   "display_name": "Python 3",
   "language": "python",
   "name": "python3"
  },
  "language_info": {
   "codemirror_mode": {
    "name": "ipython",
    "version": 3
   },
   "file_extension": ".py",
   "mimetype": "text/x-python",
   "name": "python",
   "nbconvert_exporter": "python",
   "pygments_lexer": "ipython3",
   "version": "3.7.4"
  }
 },
 "nbformat": 4,
 "nbformat_minor": 2
}
